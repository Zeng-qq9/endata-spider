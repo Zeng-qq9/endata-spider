{
 "cells": [
  {
   "cell_type": "markdown",
   "metadata": {},
   "source": [
    "\n",
    "<center><font size=6 >                     2010-2020中国电影市场分析</font></center>   "
   ]
  },
  {
   "cell_type": "markdown",
   "metadata": {},
   "source": [
    "                                                                                             小组成员：曾清清，李雯倩，孙天宇，张思蒙"
   ]
  },
  {
   "cell_type": "markdown",
   "metadata": {},
   "source": [
    "1.先搞环境，导入两个表的数据,查看相关属性\n",
    "参考：import numpy as np \n",
    "import pandas as pd \n",
    "df1 = pd.read_csv(\"tmdb_5000_credits.csv\")\n",
    "df2 = pd.read_csv(\"tmdb_5000_movies.csv\")\n",
    "df1.head(3)\n",
    "df2.head(3)\n",
    "df.columns\n",
    "df.shape"
   ]
  },
  {
   "cell_type": "code",
   "execution_count": null,
   "metadata": {},
   "outputs": [],
   "source": [
    "2.数据不多自己看看哪个里面有脏数据，先清理掉，比如说0，空或者乱码\n",
    "具体参考movie（1）"
   ]
  },
  {
   "cell_type": "code",
   "execution_count": null,
   "metadata": {},
   "outputs": [],
   "source": [
    "3.转换结构，把数据转换成python可以看的json结构(需要转换导演/演员列)\n",
    "具体参考movie（1）\n",
    "筛选出那个演员出现次数最多，前五名"
   ]
  },
  {
   "cell_type": "code",
   "execution_count": null,
   "metadata": {},
   "outputs": [],
   "source": [
    "4.将导演/演员列的第一个数据提取出来成立一个新的导演列\n",
    "具体参考movie（1）\n",
    "对导演列进行数据整合，看每个电影导演在250个电影数据中都出现了几次，展现导过电影排名前三多的导演"
   ]
  },
  {
   "cell_type": "code",
   "execution_count": null,
   "metadata": {},
   "outputs": [],
   "source": [
    "5.将数据集中的json格式的字符进行转换，将类型，制片公司，发行公司进行遍历转换格式\n",
    "具体请参考movie（3）\n",
    "数据显示排名前三多的制片公司\n",
    "数据显示排名前三多的发行公司"
   ]
  },
  {
   "cell_type": "code",
   "execution_count": null,
   "metadata": {},
   "outputs": [],
   "source": [
    "6.将两个表通过id连接\n",
    "具体请参考movie（3）"
   ]
  },
  {
   "cell_type": "code",
   "execution_count": null,
   "metadata": {},
   "outputs": [],
   "source": [
    "7.如果有和别缺失数据，自己判断填充。\n",
    "具体请参考movie（3）中对日期，浮点型的填充方法"
   ]
  },
  {
   "cell_type": "code",
   "execution_count": null,
   "metadata": {},
   "outputs": [],
   "source": [
    "8.对电影类型进行转换，形成one hot矩阵\n",
    "具体请参考movie（3）\n",
    "找出电影一共有多少类，确定所有电影中有多少个片子包含动作篇或者其他随便一种类型\n",
    "判断哪个类型出现的最多，选出前五种类型"
   ]
  },
  {
   "cell_type": "code",
   "execution_count": null,
   "metadata": {},
   "outputs": [],
   "source": [
    "9.对制式进行统计，确定每种制式出现的数量（参考df2.是否吃主食.value_counts()）"
   ]
  },
  {
   "cell_type": "code",
   "execution_count": null,
   "metadata": {},
   "outputs": [],
   "source": [
    "10.对上映时间进行统计，看看能不能做出不管哪年，月日出现最多的上映时间比如说1.1日，10.1日这个时间出现的次数最多。\n",
    "如果不行看看能不能做成哪个月份是电影上映最多的月"
   ]
  },
  {
   "cell_type": "code",
   "execution_count": null,
   "metadata": {},
   "outputs": [],
   "source": [
    "11.求首周票房占总票房的比，生成新的一列（首周占比）\n",
    "求首周占比的最大，最小，平均值"
   ]
  },
  {
   "cell_type": "code",
   "execution_count": null,
   "metadata": {},
   "outputs": [],
   "source": [
    "12.求总票房最高的三个类型，先对类型列进行分割，取第一个类型生成新的一列"
   ]
  },
  {
   "cell_type": "code",
   "execution_count": null,
   "metadata": {},
   "outputs": [],
   "source": [
    "13.求每个年份（10年）的总票房的平均值，10个年份对应十个值，最后画折线图"
   ]
  },
  {
   "cell_type": "code",
   "execution_count": null,
   "metadata": {},
   "outputs": [],
   "source": [
    "14.对片长进行统计，求出平均片长，最短片长，最长片长"
   ]
  },
  {
   "cell_type": "code",
   "execution_count": null,
   "metadata": {},
   "outputs": [],
   "source": [
    "15.列出10年中总票房最高的5个片子的所有信息"
   ]
  },
  {
   "cell_type": "code",
   "execution_count": null,
   "metadata": {},
   "outputs": [],
   "source": [
    "16.场均人次的平均值，平均票价的平均值"
   ]
  }
 ],
 "metadata": {
  "kernelspec": {
   "display_name": "Python 3",
   "language": "python",
   "name": "python3"
  },
  "language_info": {
   "codemirror_mode": {
    "name": "ipython",
    "version": 3
   },
   "file_extension": ".py",
   "mimetype": "text/x-python",
   "name": "python",
   "nbconvert_exporter": "python",
   "pygments_lexer": "ipython3",
   "version": "3.7.6"
  },
  "toc": {
   "base_numbering": 1,
   "nav_menu": {},
   "number_sections": true,
   "sideBar": true,
   "skip_h1_title": false,
   "title_cell": "Table of Contents",
   "title_sidebar": "Contents",
   "toc_cell": false,
   "toc_position": {},
   "toc_section_display": true,
   "toc_window_display": false
  }
 },
 "nbformat": 4,
 "nbformat_minor": 4
}
